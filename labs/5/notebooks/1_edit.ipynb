{
 "cells": [
  {
   "cell_type": "code",
   "execution_count": 1,
   "id": "a1727d73-a353-4098-88d3-0eb194d569b3",
   "metadata": {},
   "outputs": [],
   "source": [
    "import pandas as pd"
   ]
  },
  {
   "cell_type": "code",
   "execution_count": 2,
   "id": "e363a6f8-d240-4653-ac82-0bf1d79d3329",
   "metadata": {},
   "outputs": [
    {
     "data": {
      "text/html": [
       "<div>\n",
       "<style scoped>\n",
       "    .dataframe tbody tr th:only-of-type {\n",
       "        vertical-align: middle;\n",
       "    }\n",
       "\n",
       "    .dataframe tbody tr th {\n",
       "        vertical-align: top;\n",
       "    }\n",
       "\n",
       "    .dataframe thead th {\n",
       "        text-align: right;\n",
       "    }\n",
       "</style>\n",
       "<table border=\"1\" class=\"dataframe\">\n",
       "  <thead>\n",
       "    <tr style=\"text-align: right;\">\n",
       "      <th></th>\n",
       "      <th>z</th>\n",
       "      <th>x</th>\n",
       "      <th>y</th>\n",
       "    </tr>\n",
       "  </thead>\n",
       "  <tbody>\n",
       "    <tr>\n",
       "      <th>0</th>\n",
       "      <td>2.836772</td>\n",
       "      <td>0.271010</td>\n",
       "      <td>0.308331</td>\n",
       "    </tr>\n",
       "    <tr>\n",
       "      <th>1</th>\n",
       "      <td>4.987167</td>\n",
       "      <td>0.589598</td>\n",
       "      <td>0.514913</td>\n",
       "    </tr>\n",
       "    <tr>\n",
       "      <th>2</th>\n",
       "      <td>6.412325</td>\n",
       "      <td>0.651744</td>\n",
       "      <td>0.730453</td>\n",
       "    </tr>\n",
       "    <tr>\n",
       "      <th>3</th>\n",
       "      <td>4.641998</td>\n",
       "      <td>0.581983</td>\n",
       "      <td>0.461400</td>\n",
       "    </tr>\n",
       "    <tr>\n",
       "      <th>4</th>\n",
       "      <td>2.793941</td>\n",
       "      <td>0.463688</td>\n",
       "      <td>0.191102</td>\n",
       "    </tr>\n",
       "    <tr>\n",
       "      <th>...</th>\n",
       "      <td>...</td>\n",
       "      <td>...</td>\n",
       "      <td>...</td>\n",
       "    </tr>\n",
       "    <tr>\n",
       "      <th>195</th>\n",
       "      <td>2.917468</td>\n",
       "      <td>0.745790</td>\n",
       "      <td>0.073874</td>\n",
       "    </tr>\n",
       "    <tr>\n",
       "      <th>196</th>\n",
       "      <td>4.813905</td>\n",
       "      <td>0.474947</td>\n",
       "      <td>0.582424</td>\n",
       "    </tr>\n",
       "    <tr>\n",
       "      <th>197</th>\n",
       "      <td>6.419296</td>\n",
       "      <td>0.773870</td>\n",
       "      <td>0.636785</td>\n",
       "    </tr>\n",
       "    <tr>\n",
       "      <th>198</th>\n",
       "      <td>4.231917</td>\n",
       "      <td>0.049090</td>\n",
       "      <td>0.994537</td>\n",
       "    </tr>\n",
       "    <tr>\n",
       "      <th>199</th>\n",
       "      <td>3.928354</td>\n",
       "      <td>0.180229</td>\n",
       "      <td>0.664546</td>\n",
       "    </tr>\n",
       "  </tbody>\n",
       "</table>\n",
       "<p>200 rows × 3 columns</p>\n",
       "</div>"
      ],
      "text/plain": [
       "            z         x         y\n",
       "0    2.836772  0.271010  0.308331\n",
       "1    4.987167  0.589598  0.514913\n",
       "2    6.412325  0.651744  0.730453\n",
       "3    4.641998  0.581983  0.461400\n",
       "4    2.793941  0.463688  0.191102\n",
       "..        ...       ...       ...\n",
       "195  2.917468  0.745790  0.073874\n",
       "196  4.813905  0.474947  0.582424\n",
       "197  6.419296  0.773870  0.636785\n",
       "198  4.231917  0.049090  0.994537\n",
       "199  3.928354  0.180229  0.664546\n",
       "\n",
       "[200 rows x 3 columns]"
      ]
     },
     "execution_count": 2,
     "metadata": {},
     "output_type": "execute_result"
    }
   ],
   "source": [
    "df = pd.read_csv(\"../data/reglab1.txt\", sep=\"\\t\")\n",
    "df"
   ]
  },
  {
   "cell_type": "code",
   "execution_count": 3,
   "id": "6fbff7f0-45dd-48f7-a483-2dc6911bfdcb",
   "metadata": {},
   "outputs": [
    {
     "data": {
      "text/html": [
       "<div>\n",
       "<style scoped>\n",
       "    .dataframe tbody tr th:only-of-type {\n",
       "        vertical-align: middle;\n",
       "    }\n",
       "\n",
       "    .dataframe tbody tr th {\n",
       "        vertical-align: top;\n",
       "    }\n",
       "\n",
       "    .dataframe thead th {\n",
       "        text-align: right;\n",
       "    }\n",
       "</style>\n",
       "<table border=\"1\" class=\"dataframe\">\n",
       "  <thead>\n",
       "    <tr style=\"text-align: right;\">\n",
       "      <th></th>\n",
       "      <th>z</th>\n",
       "      <th>x</th>\n",
       "      <th>y</th>\n",
       "    </tr>\n",
       "  </thead>\n",
       "  <tbody>\n",
       "    <tr>\n",
       "      <th>count</th>\n",
       "      <td>200.000000</td>\n",
       "      <td>200.000000</td>\n",
       "      <td>200.000000</td>\n",
       "    </tr>\n",
       "    <tr>\n",
       "      <th>mean</th>\n",
       "      <td>4.526593</td>\n",
       "      <td>0.505099</td>\n",
       "      <td>0.500915</td>\n",
       "    </tr>\n",
       "    <tr>\n",
       "      <th>std</th>\n",
       "      <td>1.896627</td>\n",
       "      <td>0.275199</td>\n",
       "      <td>0.297885</td>\n",
       "    </tr>\n",
       "    <tr>\n",
       "      <th>min</th>\n",
       "      <td>1.279172</td>\n",
       "      <td>0.012889</td>\n",
       "      <td>0.007156</td>\n",
       "    </tr>\n",
       "    <tr>\n",
       "      <th>25%</th>\n",
       "      <td>2.952748</td>\n",
       "      <td>0.267437</td>\n",
       "      <td>0.212382</td>\n",
       "    </tr>\n",
       "    <tr>\n",
       "      <th>50%</th>\n",
       "      <td>4.309908</td>\n",
       "      <td>0.509381</td>\n",
       "      <td>0.505285</td>\n",
       "    </tr>\n",
       "    <tr>\n",
       "      <th>75%</th>\n",
       "      <td>5.777935</td>\n",
       "      <td>0.732546</td>\n",
       "      <td>0.763352</td>\n",
       "    </tr>\n",
       "    <tr>\n",
       "      <th>max</th>\n",
       "      <td>9.569435</td>\n",
       "      <td>0.995119</td>\n",
       "      <td>0.994609</td>\n",
       "    </tr>\n",
       "  </tbody>\n",
       "</table>\n",
       "</div>"
      ],
      "text/plain": [
       "                z           x           y\n",
       "count  200.000000  200.000000  200.000000\n",
       "mean     4.526593    0.505099    0.500915\n",
       "std      1.896627    0.275199    0.297885\n",
       "min      1.279172    0.012889    0.007156\n",
       "25%      2.952748    0.267437    0.212382\n",
       "50%      4.309908    0.509381    0.505285\n",
       "75%      5.777935    0.732546    0.763352\n",
       "max      9.569435    0.995119    0.994609"
      ]
     },
     "execution_count": 3,
     "metadata": {},
     "output_type": "execute_result"
    }
   ],
   "source": [
    "df.describe()"
   ]
  },
  {
   "cell_type": "code",
   "execution_count": 16,
   "id": "d989ac6b-6092-4d5e-bf1b-e20c38f8dc2a",
   "metadata": {},
   "outputs": [],
   "source": [
    "import matplotlib.pyplot as plt"
   ]
  },
  {
   "cell_type": "code",
   "execution_count": 19,
   "id": "178c78b7-3752-40c1-9012-31f92ed99749",
   "metadata": {},
   "outputs": [
    {
     "data": {
      "image/png": "[encoded data removed]",
      "text/plain": [
       "<Figure size 640x480 with 1 Axes>"
      ]
     },
     "metadata": {},
     "output_type": "display_data"
    },
    {
     "data": {
      "image/png": "[encoded data removed]",
      "text/plain": [
       "<Figure size 640x480 with 1 Axes>"
      ]
     },
     "metadata": {},
     "output_type": "display_data"
    },
    {
     "data": {
      "image/png": "[encoded data removed]",
      "text/plain": [
       "<Figure size 640x480 with 1 Axes>"
      ]
     },
     "metadata": {},
     "output_type": "display_data"
    }
   ],
   "source": [
    "for col in df.columns:\n",
    "    df[col].hist(bins=15)\n",
    "    plt.title(f\"${col}$\")\n",
    "    plt.show()"
   ]
  },
  {
   "cell_type": "code",
   "execution_count": null,
   "id": "d01ce549-5525-4aa5-9e05-c18274907150",
   "metadata": {},
   "outputs": [],
   "source": []
  },
  {
   "cell_type": "code",
   "execution_count": 4,
   "id": "c481c9c7-a10f-41a7-ac14-1bace2289fa4",
   "metadata": {},
   "outputs": [],
   "source": [
    "from sklearn.model_selection import train_test_split"
   ]
  },
  {
   "cell_type": "code",
   "execution_count": 5,
   "id": "e69f7818-981a-451d-aa78-c7f508c5b5f0",
   "metadata": {},
   "outputs": [],
   "source": [
    "train_df, test_df = train_test_split(\n",
    "    df,\n",
    "    test_size=0.3,\n",
    "    random_state=42,\n",
    ")"
   ]
  },
  {
   "cell_type": "code",
   "execution_count": 6,
   "id": "24da01ef-7b83-4faa-904d-65fc56484fce",
   "metadata": {},
   "outputs": [],
   "source": [
    "from tqdm import tqdm"
   ]
  },
  {
   "cell_type": "code",
   "execution_count": 7,
   "id": "2006179b-9b3c-47e2-8e3e-9ea938f2ed2c",
   "metadata": {},
   "outputs": [],
   "source": [
    "from sklearn.linear_model import LinearRegression\n",
    "from sklearn.metrics import r2_score, mean_squared_error"
   ]
  },
  {
   "cell_type": "code",
   "execution_count": 8,
   "id": "011b25d3-9396-4809-a13c-d22f70ad9f45",
   "metadata": {},
   "outputs": [
    {
     "name": "stderr",
     "output_type": "stream",
     "text": [
      "100%|████████████████████████████████████████████████████| 3/3 [00:00<00:00, 255.08it/s]"
     ]
    },
    {
     "name": "stdout",
     "output_type": "stream",
     "text": [
      "z\n",
      "0.966750533806433 0.12282534889074943\n",
      "[(np.float64(4.131295221893194), 'x'), (np.float64(4.920746570906584), 'y'), (np.float64(-0.018397884222508765), 'bias')]\n",
      "\n",
      "x\n",
      "0.9206324974622901 0.006942908128829413\n",
      "[(np.float64(0.2219217026228509), 'z'), (np.float64(-1.089889889165696), 'y'), (np.float64(0.04414830532156028), 'bias')]\n",
      "\n",
      "y\n",
      "0.9470179480230259 0.004674798356333443\n",
      "[(np.float64(0.19344123976542393), 'z'), (np.float64(-0.7976036763729076), 'x'), (np.float64(0.027059033817614764), 'bias')]\n",
      "\n"
     ]
    },
    {
     "name": "stderr",
     "output_type": "stream",
     "text": [
      "\n"
     ]
    }
   ],
   "source": [
    "for target_col in tqdm(df.columns):\n",
    "\n",
    "    X_train = train_df.drop(target_col, axis=1)\n",
    "    X_test = test_df.drop(target_col, axis=1)\n",
    "    y_train = train_df[target_col]\n",
    "    y_test = test_df[target_col]\n",
    "\n",
    "    model = LinearRegression().fit(X_train, y_train)\n",
    "    y_pred = model.predict(X_test)\n",
    "\n",
    "    print(target_col)\n",
    "    print(\n",
    "        r2_score(y_true=y_test, y_pred=y_pred),\n",
    "        mean_squared_error(y_true=y_test, y_pred=y_pred),\n",
    "    )\n",
    "\n",
    "    print(list(zip(model.coef_, X_train.columns)) + [(model.intercept_, \"bias\")])\n",
    "    print()"
   ]
  },
  {
   "cell_type": "code",
   "execution_count": 9,
   "id": "fb290813-fd69-46c2-89df-b6044f42888d",
   "metadata": {},
   "outputs": [],
   "source": [
    "from sklearn.preprocessing import StandardScaler"
   ]
  },
  {
   "cell_type": "code",
   "execution_count": 10,
   "id": "a1205fd3-b305-4287-82ca-4c96dd419775",
   "metadata": {},
   "outputs": [],
   "source": [
    "scalled_df = pd.DataFrame(StandardScaler().fit_transform(df), columns=df.columns)"
   ]
  },
  {
   "cell_type": "code",
   "execution_count": 11,
   "id": "9cacad5c-431f-4d01-b9ce-0d92a0f4730a",
   "metadata": {},
   "outputs": [],
   "source": [
    "train_df, test_df = train_test_split(\n",
    "    scalled_df,\n",
    "    test_size=0.3,\n",
    "    random_state=42,\n",
    ")"
   ]
  },
  {
   "cell_type": "code",
   "execution_count": 20,
   "id": "de0e7627-8809-4851-959d-39635c9b2151",
   "metadata": {},
   "outputs": [
    {
     "name": "stderr",
     "output_type": "stream",
     "text": [
      "100%|████████████████████████████████████████████████████| 3/3 [00:00<00:00, 303.43it/s]"
     ]
    },
    {
     "name": "stdout",
     "output_type": "stream",
     "text": [
      "z\n",
      "0.966751 0.034316\n",
      "[(np.float64(0.5994470382828847), 'x'), (np.float64(0.7728556585940892), 'y'), (np.float64(0.003486524968774267), 'bias')]\n",
      "\n",
      "x\n",
      "0.920632 0.092135\n",
      "[(np.float64(1.5294496613185846), 'z'), (np.float64(-1.179737618691181), 'y'), (np.float64(-0.008536031424368744), 'bias')]\n",
      "\n",
      "y\n",
      "0.947018 0.052947\n",
      "[(np.float64(1.2316340142727236), 'z'), (np.float64(-0.7368589156329813), 'x'), (np.float64(-0.0036839476590036727), 'bias')]\n",
      "\n"
     ]
    },
    {
     "name": "stderr",
     "output_type": "stream",
     "text": [
      "\n"
     ]
    }
   ],
   "source": [
    "for target_col in tqdm(df.columns):\n",
    "\n",
    "    X_train = train_df.drop(target_col, axis=1)\n",
    "    X_test = test_df.drop(target_col, axis=1)\n",
    "    y_train = train_df[target_col]\n",
    "    y_test = test_df[target_col]\n",
    "\n",
    "    model = LinearRegression().fit(X_train, y_train)\n",
    "    y_pred = model.predict(X_test)\n",
    "\n",
    "    print(target_col)\n",
    "    print(\n",
    "        round(r2_score(y_true=y_test, y_pred=y_pred), 6),\n",
    "        round(mean_squared_error(y_true=y_test, y_pred=y_pred), 6),\n",
    "    )\n",
    "\n",
    "    print(list(zip(model.coef_, X_train.columns)) + [(model.intercept_, \"bias\")])\n",
    "    print()"
   ]
  }
 ],
 "metadata": {
  "kernelspec": {
   "display_name": "Python 3 (ipykernel)",
   "language": "python",
   "name": "python3"
  },
  "language_info": {
   "codemirror_mode": {
    "name": "ipython",
    "version": 3
   },
   "file_extension": ".py",
   "mimetype": "text/x-python",
   "name": "python",
   "nbconvert_exporter": "python",
   "pygments_lexer": "ipython3",
   "version": "3.12.0"
  }
 },
 "nbformat": 4,
 "nbformat_minor": 5
}
