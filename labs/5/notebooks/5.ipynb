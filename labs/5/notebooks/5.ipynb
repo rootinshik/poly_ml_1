{
 "cells": [
  {
   "cell_type": "code",
   "execution_count": 1,
   "id": "af38c4c6-4533-4704-8554-ba82f821964e",
   "metadata": {},
   "outputs": [],
   "source": [
    "import pandas as pd"
   ]
  },
  {
   "cell_type": "code",
   "execution_count": 2,
   "id": "b37b2858-4f0b-4bb4-9d57-5ca62bcf15bc",
   "metadata": {},
   "outputs": [
    {
     "data": {
      "text/html": [
       "<div>\n",
       "<style scoped>\n",
       "    .dataframe tbody tr th:only-of-type {\n",
       "        vertical-align: middle;\n",
       "    }\n",
       "\n",
       "    .dataframe tbody tr th {\n",
       "        vertical-align: top;\n",
       "    }\n",
       "\n",
       "    .dataframe thead th {\n",
       "        text-align: right;\n",
       "    }\n",
       "</style>\n",
       "<table border=\"1\" class=\"dataframe\">\n",
       "  <thead>\n",
       "    <tr style=\"text-align: right;\">\n",
       "      <th></th>\n",
       "      <th>gnp.deflator</th>\n",
       "      <th>gnp</th>\n",
       "      <th>unemployed</th>\n",
       "      <th>armed.forces</th>\n",
       "      <th>population</th>\n",
       "      <th>year</th>\n",
       "      <th>employed</th>\n",
       "    </tr>\n",
       "  </thead>\n",
       "  <tbody>\n",
       "    <tr>\n",
       "      <th>0</th>\n",
       "      <td>83.0</td>\n",
       "      <td>234.289</td>\n",
       "      <td>235.6</td>\n",
       "      <td>159.0</td>\n",
       "      <td>107.608</td>\n",
       "      <td>1947</td>\n",
       "      <td>60.323</td>\n",
       "    </tr>\n",
       "    <tr>\n",
       "      <th>1</th>\n",
       "      <td>88.5</td>\n",
       "      <td>259.426</td>\n",
       "      <td>232.5</td>\n",
       "      <td>145.6</td>\n",
       "      <td>108.632</td>\n",
       "      <td>1948</td>\n",
       "      <td>61.122</td>\n",
       "    </tr>\n",
       "    <tr>\n",
       "      <th>2</th>\n",
       "      <td>88.2</td>\n",
       "      <td>258.054</td>\n",
       "      <td>368.2</td>\n",
       "      <td>161.6</td>\n",
       "      <td>109.773</td>\n",
       "      <td>1949</td>\n",
       "      <td>60.171</td>\n",
       "    </tr>\n",
       "    <tr>\n",
       "      <th>3</th>\n",
       "      <td>89.5</td>\n",
       "      <td>284.599</td>\n",
       "      <td>335.1</td>\n",
       "      <td>165.0</td>\n",
       "      <td>110.929</td>\n",
       "      <td>1950</td>\n",
       "      <td>61.187</td>\n",
       "    </tr>\n",
       "    <tr>\n",
       "      <th>4</th>\n",
       "      <td>96.2</td>\n",
       "      <td>328.975</td>\n",
       "      <td>209.9</td>\n",
       "      <td>309.9</td>\n",
       "      <td>112.075</td>\n",
       "      <td>1951</td>\n",
       "      <td>63.221</td>\n",
       "    </tr>\n",
       "    <tr>\n",
       "      <th>5</th>\n",
       "      <td>98.1</td>\n",
       "      <td>346.999</td>\n",
       "      <td>193.2</td>\n",
       "      <td>359.4</td>\n",
       "      <td>113.270</td>\n",
       "      <td>1952</td>\n",
       "      <td>63.639</td>\n",
       "    </tr>\n",
       "    <tr>\n",
       "      <th>6</th>\n",
       "      <td>99.0</td>\n",
       "      <td>365.385</td>\n",
       "      <td>187.0</td>\n",
       "      <td>354.7</td>\n",
       "      <td>115.094</td>\n",
       "      <td>1953</td>\n",
       "      <td>64.989</td>\n",
       "    </tr>\n",
       "    <tr>\n",
       "      <th>7</th>\n",
       "      <td>100.0</td>\n",
       "      <td>363.112</td>\n",
       "      <td>357.8</td>\n",
       "      <td>335.0</td>\n",
       "      <td>116.219</td>\n",
       "      <td>1954</td>\n",
       "      <td>63.761</td>\n",
       "    </tr>\n",
       "    <tr>\n",
       "      <th>8</th>\n",
       "      <td>101.2</td>\n",
       "      <td>397.469</td>\n",
       "      <td>290.4</td>\n",
       "      <td>304.8</td>\n",
       "      <td>117.388</td>\n",
       "      <td>1955</td>\n",
       "      <td>66.019</td>\n",
       "    </tr>\n",
       "    <tr>\n",
       "      <th>9</th>\n",
       "      <td>104.6</td>\n",
       "      <td>419.180</td>\n",
       "      <td>282.2</td>\n",
       "      <td>285.7</td>\n",
       "      <td>118.734</td>\n",
       "      <td>1956</td>\n",
       "      <td>67.857</td>\n",
       "    </tr>\n",
       "    <tr>\n",
       "      <th>10</th>\n",
       "      <td>108.4</td>\n",
       "      <td>442.769</td>\n",
       "      <td>293.6</td>\n",
       "      <td>279.8</td>\n",
       "      <td>120.445</td>\n",
       "      <td>1957</td>\n",
       "      <td>68.169</td>\n",
       "    </tr>\n",
       "    <tr>\n",
       "      <th>11</th>\n",
       "      <td>110.8</td>\n",
       "      <td>444.546</td>\n",
       "      <td>468.1</td>\n",
       "      <td>263.7</td>\n",
       "      <td>121.950</td>\n",
       "      <td>1958</td>\n",
       "      <td>66.513</td>\n",
       "    </tr>\n",
       "    <tr>\n",
       "      <th>12</th>\n",
       "      <td>112.6</td>\n",
       "      <td>482.704</td>\n",
       "      <td>381.3</td>\n",
       "      <td>255.2</td>\n",
       "      <td>123.366</td>\n",
       "      <td>1959</td>\n",
       "      <td>68.655</td>\n",
       "    </tr>\n",
       "    <tr>\n",
       "      <th>13</th>\n",
       "      <td>114.2</td>\n",
       "      <td>502.601</td>\n",
       "      <td>393.1</td>\n",
       "      <td>251.4</td>\n",
       "      <td>125.368</td>\n",
       "      <td>1960</td>\n",
       "      <td>69.564</td>\n",
       "    </tr>\n",
       "    <tr>\n",
       "      <th>14</th>\n",
       "      <td>115.7</td>\n",
       "      <td>518.173</td>\n",
       "      <td>480.6</td>\n",
       "      <td>257.2</td>\n",
       "      <td>127.852</td>\n",
       "      <td>1961</td>\n",
       "      <td>69.331</td>\n",
       "    </tr>\n",
       "    <tr>\n",
       "      <th>15</th>\n",
       "      <td>116.9</td>\n",
       "      <td>554.894</td>\n",
       "      <td>400.7</td>\n",
       "      <td>282.7</td>\n",
       "      <td>130.081</td>\n",
       "      <td>1962</td>\n",
       "      <td>70.551</td>\n",
       "    </tr>\n",
       "  </tbody>\n",
       "</table>\n",
       "</div>"
      ],
      "text/plain": [
       "    gnp.deflator      gnp  unemployed  armed.forces  population  year  \\\n",
       "0           83.0  234.289       235.6         159.0     107.608  1947   \n",
       "1           88.5  259.426       232.5         145.6     108.632  1948   \n",
       "2           88.2  258.054       368.2         161.6     109.773  1949   \n",
       "3           89.5  284.599       335.1         165.0     110.929  1950   \n",
       "4           96.2  328.975       209.9         309.9     112.075  1951   \n",
       "5           98.1  346.999       193.2         359.4     113.270  1952   \n",
       "6           99.0  365.385       187.0         354.7     115.094  1953   \n",
       "7          100.0  363.112       357.8         335.0     116.219  1954   \n",
       "8          101.2  397.469       290.4         304.8     117.388  1955   \n",
       "9          104.6  419.180       282.2         285.7     118.734  1956   \n",
       "10         108.4  442.769       293.6         279.8     120.445  1957   \n",
       "11         110.8  444.546       468.1         263.7     121.950  1958   \n",
       "12         112.6  482.704       381.3         255.2     123.366  1959   \n",
       "13         114.2  502.601       393.1         251.4     125.368  1960   \n",
       "14         115.7  518.173       480.6         257.2     127.852  1961   \n",
       "15         116.9  554.894       400.7         282.7     130.081  1962   \n",
       "\n",
       "    employed  \n",
       "0     60.323  \n",
       "1     61.122  \n",
       "2     60.171  \n",
       "3     61.187  \n",
       "4     63.221  \n",
       "5     63.639  \n",
       "6     64.989  \n",
       "7     63.761  \n",
       "8     66.019  \n",
       "9     67.857  \n",
       "10    68.169  \n",
       "11    66.513  \n",
       "12    68.655  \n",
       "13    69.564  \n",
       "14    69.331  \n",
       "15    70.551  "
      ]
     },
     "execution_count": 2,
     "metadata": {},
     "output_type": "execute_result"
    }
   ],
   "source": [
    "df = pd.read_csv(\"../data/longley.csv\").rename(columns=str.lower)\n",
    "df"
   ]
  },
  {
   "cell_type": "code",
   "execution_count": 3,
   "id": "68c84542-5655-4380-b2ed-e1c9343c5ad4",
   "metadata": {},
   "outputs": [],
   "source": [
    "df = df.drop(\"population\", axis=1)"
   ]
  },
  {
   "cell_type": "code",
   "execution_count": 4,
   "id": "cfddf365-2f33-4311-84b7-7242d11ecab6",
   "metadata": {},
   "outputs": [],
   "source": [
    "features = df.drop(columns='employed', axis=1).columns\n",
    "target = \"employed\""
   ]
  },
  {
   "cell_type": "code",
   "execution_count": 5,
   "id": "da6425d6-abeb-438f-afca-a3cfddb72b7b",
   "metadata": {},
   "outputs": [],
   "source": [
    "from sklearn.preprocessing import StandardScaler"
   ]
  },
  {
   "cell_type": "code",
   "execution_count": 6,
   "id": "90be587c-cd42-4233-af47-586c2afc944e",
   "metadata": {},
   "outputs": [],
   "source": [
    "scalled_df = df.copy()\n",
    "scalled_df[features] = StandardScaler().fit_transform(df[features])"
   ]
  },
  {
   "cell_type": "code",
   "execution_count": 7,
   "id": "3d810162-5e24-40db-9bbd-caa00d5b1ccd",
   "metadata": {},
   "outputs": [],
   "source": [
    "from sklearn.model_selection import train_test_split"
   ]
  },
  {
   "cell_type": "code",
   "execution_count": 8,
   "id": "2824dc50-b749-4ee6-914c-f6ce8ccb7b89",
   "metadata": {},
   "outputs": [],
   "source": [
    "X = scalled_df[features]  \n",
    "y = scalled_df[target]\n",
    "\n",
    "X_train, X_test, y_train, y_test = train_test_split(X, y, test_size=0.5, random_state=42)"
   ]
  },
  {
   "cell_type": "code",
   "execution_count": 9,
   "id": "2ec3597b-36e7-466d-a75c-cc8f48bfe4b8",
   "metadata": {},
   "outputs": [],
   "source": [
    "from sklearn.linear_model import Ridge"
   ]
  },
  {
   "cell_type": "code",
   "execution_count": 10,
   "id": "d14ab14c-4dd6-4804-af7f-3bde070834e0",
   "metadata": {},
   "outputs": [],
   "source": [
    "lambdas = [\n",
    "    10**(-3 + 0.2 * i)\n",
    "    for i in range(0, 25 + 1)\n",
    "]"
   ]
  },
  {
   "cell_type": "code",
   "execution_count": 11,
   "id": "82fcc068-8110-45c5-aa74-e05a7895ec53",
   "metadata": {},
   "outputs": [],
   "source": [
    "from sklearn.metrics import mean_squared_error"
   ]
  },
  {
   "cell_type": "code",
   "execution_count": 12,
   "id": "45554785-a302-44de-bea1-1f02c3ec10d9",
   "metadata": {},
   "outputs": [],
   "source": [
    "train_errors, test_errors = [], []\n",
    "\n",
    "for alpha in lambdas:\n",
    "    model = Ridge(alpha=alpha)\n",
    "    model.fit(X_train, y_train)\n",
    "    \n",
    "    train_pred = model.predict(X_train)\n",
    "    test_pred = model.predict(X_test)\n",
    "    \n",
    "    train_errors.append(mean_squared_error(y_train, train_pred))\n",
    "    test_errors.append(mean_squared_error(y_test, test_pred))"
   ]
  },
  {
   "cell_type": "code",
   "execution_count": 13,
   "id": "f2680e16-d5b8-4cd3-a51a-223e56388faa",
   "metadata": {},
   "outputs": [],
   "source": [
    "import matplotlib.pyplot as plt"
   ]
  },
  {
   "cell_type": "code",
   "execution_count": 14,
   "id": "58c844fe-e77e-41a6-88a7-73854ca119bf",
   "metadata": {},
   "outputs": [],
   "source": [
    "mse_linear_4 = 0.20886527605294597"
   ]
  },
  {
   "cell_type": "code",
   "execution_count": 16,
   "id": "237a9097-0936-4fd1-a2fb-49bb12abe135",
   "metadata": {},
   "outputs": [
    {
     "name": "stderr",
     "output_type": "stream",
     "text": [
      "<>:19: SyntaxWarning: invalid escape sequence '\\l'\n",
      "<>:19: SyntaxWarning: invalid escape sequence '\\l'\n",
      "/tmp/ipykernel_8507/1081831192.py:19: SyntaxWarning: invalid escape sequence '\\l'\n",
      "  plt.xlabel('$\\lambda$')\n"
     ]
    },
    {
     "data": {
      "image/png": "[encoded data removed]",
      "text/plain": [
       "<Figure size 640x480 with 1 Axes>"
      ]
     },
     "metadata": {},
     "output_type": "display_data"
    }
   ],
   "source": [
    "plt.semilogy(\n",
    "    lambdas,\n",
    "    train_errors,\n",
    "    label='train error (ridge)',\n",
    "        \n",
    ")\n",
    "plt.semilogy(\n",
    "    lambdas,\n",
    "    test_errors,\n",
    "    label='test error (ridge)'\n",
    ")\n",
    "\n",
    "plt.axhline(\n",
    "    mse_linear_4,\n",
    "    label=\"test error (without regualrization)\",\n",
    "    color='red'\n",
    ")\n",
    "\n",
    "plt.xlabel('$\\lambda$')\n",
    "plt.ylabel('MSE (log scale)')\n",
    "plt.grid(True, which='both', linestyle='--', alpha=0.5)\n",
    "plt.legend()\n",
    "plt.show()"
   ]
  }
 ],
 "metadata": {
  "kernelspec": {
   "display_name": "Python 3 (ipykernel)",
   "language": "python",
   "name": "python3"
  },
  "language_info": {
   "codemirror_mode": {
    "name": "ipython",
    "version": 3
   },
   "file_extension": ".py",
   "mimetype": "text/x-python",
   "name": "python",
   "nbconvert_exporter": "python",
   "pygments_lexer": "ipython3",
   "version": "3.12.0"
  }
 },
 "nbformat": 4,
 "nbformat_minor": 5
}
