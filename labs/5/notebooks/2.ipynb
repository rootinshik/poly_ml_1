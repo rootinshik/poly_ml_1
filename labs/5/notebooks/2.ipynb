{
 "cells": [
  {
   "cell_type": "code",
   "execution_count": 1,
   "id": "5032210d-da80-4c03-a043-6f8f13e9d892",
   "metadata": {},
   "outputs": [],
   "source": [
    "import pandas as pd"
   ]
  },
  {
   "cell_type": "code",
   "execution_count": 2,
   "id": "97302898-fb85-45d2-984b-b19751071d0d",
   "metadata": {},
   "outputs": [
    {
     "data": {
      "text/html": [
       "<div>\n",
       "<style scoped>\n",
       "    .dataframe tbody tr th:only-of-type {\n",
       "        vertical-align: middle;\n",
       "    }\n",
       "\n",
       "    .dataframe tbody tr th {\n",
       "        vertical-align: top;\n",
       "    }\n",
       "\n",
       "    .dataframe thead th {\n",
       "        text-align: right;\n",
       "    }\n",
       "</style>\n",
       "<table border=\"1\" class=\"dataframe\">\n",
       "  <thead>\n",
       "    <tr style=\"text-align: right;\">\n",
       "      <th></th>\n",
       "      <th>y</th>\n",
       "      <th>x1</th>\n",
       "      <th>x2</th>\n",
       "      <th>x3</th>\n",
       "      <th>x4</th>\n",
       "    </tr>\n",
       "  </thead>\n",
       "  <tbody>\n",
       "    <tr>\n",
       "      <th>0</th>\n",
       "      <td>3.469720</td>\n",
       "      <td>0.233628</td>\n",
       "      <td>0.835549</td>\n",
       "      <td>0.102965</td>\n",
       "      <td>0.457428</td>\n",
       "    </tr>\n",
       "    <tr>\n",
       "      <th>1</th>\n",
       "      <td>0.768448</td>\n",
       "      <td>0.117920</td>\n",
       "      <td>0.090544</td>\n",
       "      <td>0.258778</td>\n",
       "      <td>0.283951</td>\n",
       "    </tr>\n",
       "    <tr>\n",
       "      <th>2</th>\n",
       "      <td>2.880374</td>\n",
       "      <td>0.091520</td>\n",
       "      <td>0.797592</td>\n",
       "      <td>0.198528</td>\n",
       "      <td>0.699287</td>\n",
       "    </tr>\n",
       "    <tr>\n",
       "      <th>3</th>\n",
       "      <td>3.745485</td>\n",
       "      <td>0.876722</td>\n",
       "      <td>0.062935</td>\n",
       "      <td>0.615415</td>\n",
       "      <td>0.176058</td>\n",
       "    </tr>\n",
       "    <tr>\n",
       "      <th>4</th>\n",
       "      <td>1.853966</td>\n",
       "      <td>0.207406</td>\n",
       "      <td>0.303490</td>\n",
       "      <td>0.775967</td>\n",
       "      <td>0.667351</td>\n",
       "    </tr>\n",
       "    <tr>\n",
       "      <th>...</th>\n",
       "      <td>...</td>\n",
       "      <td>...</td>\n",
       "      <td>...</td>\n",
       "      <td>...</td>\n",
       "      <td>...</td>\n",
       "    </tr>\n",
       "    <tr>\n",
       "      <th>195</th>\n",
       "      <td>0.820625</td>\n",
       "      <td>0.163545</td>\n",
       "      <td>0.033599</td>\n",
       "      <td>0.383312</td>\n",
       "      <td>0.645846</td>\n",
       "    </tr>\n",
       "    <tr>\n",
       "      <th>196</th>\n",
       "      <td>4.676726</td>\n",
       "      <td>0.983839</td>\n",
       "      <td>0.225527</td>\n",
       "      <td>0.127676</td>\n",
       "      <td>0.757216</td>\n",
       "    </tr>\n",
       "    <tr>\n",
       "      <th>197</th>\n",
       "      <td>3.471228</td>\n",
       "      <td>0.661587</td>\n",
       "      <td>0.231570</td>\n",
       "      <td>0.800238</td>\n",
       "      <td>0.609558</td>\n",
       "    </tr>\n",
       "    <tr>\n",
       "      <th>198</th>\n",
       "      <td>3.633997</td>\n",
       "      <td>0.828217</td>\n",
       "      <td>0.076275</td>\n",
       "      <td>0.129719</td>\n",
       "      <td>0.965084</td>\n",
       "    </tr>\n",
       "    <tr>\n",
       "      <th>199</th>\n",
       "      <td>5.117337</td>\n",
       "      <td>0.830951</td>\n",
       "      <td>0.546032</td>\n",
       "      <td>0.348426</td>\n",
       "      <td>0.629570</td>\n",
       "    </tr>\n",
       "  </tbody>\n",
       "</table>\n",
       "<p>200 rows × 5 columns</p>\n",
       "</div>"
      ],
      "text/plain": [
       "            y        x1        x2        x3        x4\n",
       "0    3.469720  0.233628  0.835549  0.102965  0.457428\n",
       "1    0.768448  0.117920  0.090544  0.258778  0.283951\n",
       "2    2.880374  0.091520  0.797592  0.198528  0.699287\n",
       "3    3.745485  0.876722  0.062935  0.615415  0.176058\n",
       "4    1.853966  0.207406  0.303490  0.775967  0.667351\n",
       "..        ...       ...       ...       ...       ...\n",
       "195  0.820625  0.163545  0.033599  0.383312  0.645846\n",
       "196  4.676726  0.983839  0.225527  0.127676  0.757216\n",
       "197  3.471228  0.661587  0.231570  0.800238  0.609558\n",
       "198  3.633997  0.828217  0.076275  0.129719  0.965084\n",
       "199  5.117337  0.830951  0.546032  0.348426  0.629570\n",
       "\n",
       "[200 rows x 5 columns]"
      ]
     },
     "execution_count": 2,
     "metadata": {},
     "output_type": "execute_result"
    }
   ],
   "source": [
    "df = pd.read_csv(\"../data/reglab.txt\", sep=\"\\t\")\n",
    "df"
   ]
  },
  {
   "cell_type": "code",
   "execution_count": 3,
   "id": "0f0710bf-d756-4b60-9f9e-e1764f45d4c3",
   "metadata": {},
   "outputs": [
    {
     "data": {
      "text/html": [
       "<div>\n",
       "<style scoped>\n",
       "    .dataframe tbody tr th:only-of-type {\n",
       "        vertical-align: middle;\n",
       "    }\n",
       "\n",
       "    .dataframe tbody tr th {\n",
       "        vertical-align: top;\n",
       "    }\n",
       "\n",
       "    .dataframe thead th {\n",
       "        text-align: right;\n",
       "    }\n",
       "</style>\n",
       "<table border=\"1\" class=\"dataframe\">\n",
       "  <thead>\n",
       "    <tr style=\"text-align: right;\">\n",
       "      <th></th>\n",
       "      <th>y</th>\n",
       "      <th>x1</th>\n",
       "      <th>x2</th>\n",
       "      <th>x3</th>\n",
       "      <th>x4</th>\n",
       "    </tr>\n",
       "  </thead>\n",
       "  <tbody>\n",
       "    <tr>\n",
       "      <th>count</th>\n",
       "      <td>200.000000</td>\n",
       "      <td>200.000000</td>\n",
       "      <td>200.000000</td>\n",
       "      <td>200.000000</td>\n",
       "      <td>200.000000</td>\n",
       "    </tr>\n",
       "    <tr>\n",
       "      <th>mean</th>\n",
       "      <td>3.586346</td>\n",
       "      <td>0.510916</td>\n",
       "      <td>0.484160</td>\n",
       "      <td>0.493104</td>\n",
       "      <td>0.479862</td>\n",
       "    </tr>\n",
       "    <tr>\n",
       "      <th>std</th>\n",
       "      <td>1.408295</td>\n",
       "      <td>0.290918</td>\n",
       "      <td>0.295483</td>\n",
       "      <td>0.286916</td>\n",
       "      <td>0.282165</td>\n",
       "    </tr>\n",
       "    <tr>\n",
       "      <th>min</th>\n",
       "      <td>0.768448</td>\n",
       "      <td>0.003012</td>\n",
       "      <td>0.000040</td>\n",
       "      <td>0.005894</td>\n",
       "      <td>0.001680</td>\n",
       "    </tr>\n",
       "    <tr>\n",
       "      <th>25%</th>\n",
       "      <td>2.460495</td>\n",
       "      <td>0.243641</td>\n",
       "      <td>0.218592</td>\n",
       "      <td>0.247322</td>\n",
       "      <td>0.242880</td>\n",
       "    </tr>\n",
       "    <tr>\n",
       "      <th>50%</th>\n",
       "      <td>3.556370</td>\n",
       "      <td>0.535503</td>\n",
       "      <td>0.493677</td>\n",
       "      <td>0.506295</td>\n",
       "      <td>0.477532</td>\n",
       "    </tr>\n",
       "    <tr>\n",
       "      <th>75%</th>\n",
       "      <td>4.666696</td>\n",
       "      <td>0.775323</td>\n",
       "      <td>0.754869</td>\n",
       "      <td>0.748527</td>\n",
       "      <td>0.704679</td>\n",
       "    </tr>\n",
       "    <tr>\n",
       "      <th>max</th>\n",
       "      <td>6.840503</td>\n",
       "      <td>0.983839</td>\n",
       "      <td>0.998332</td>\n",
       "      <td>0.996059</td>\n",
       "      <td>0.987926</td>\n",
       "    </tr>\n",
       "  </tbody>\n",
       "</table>\n",
       "</div>"
      ],
      "text/plain": [
       "                y          x1          x2          x3          x4\n",
       "count  200.000000  200.000000  200.000000  200.000000  200.000000\n",
       "mean     3.586346    0.510916    0.484160    0.493104    0.479862\n",
       "std      1.408295    0.290918    0.295483    0.286916    0.282165\n",
       "min      0.768448    0.003012    0.000040    0.005894    0.001680\n",
       "25%      2.460495    0.243641    0.218592    0.247322    0.242880\n",
       "50%      3.556370    0.535503    0.493677    0.506295    0.477532\n",
       "75%      4.666696    0.775323    0.754869    0.748527    0.704679\n",
       "max      6.840503    0.983839    0.998332    0.996059    0.987926"
      ]
     },
     "execution_count": 3,
     "metadata": {},
     "output_type": "execute_result"
    }
   ],
   "source": [
    "df.describe()"
   ]
  },
  {
   "cell_type": "code",
   "execution_count": 4,
   "id": "57451575-e614-429b-97db-e40549c6b562",
   "metadata": {},
   "outputs": [],
   "source": [
    "from sklearn.model_selection import train_test_split"
   ]
  },
  {
   "cell_type": "code",
   "execution_count": 5,
   "id": "2637d6d6-2234-4e90-ae5f-10ab5787a6df",
   "metadata": {},
   "outputs": [],
   "source": [
    "train_df, test_df = train_test_split(df, random_state=42, test_size=0.3)"
   ]
  },
  {
   "cell_type": "code",
   "execution_count": 6,
   "id": "5ee27609-fec1-4183-b867-a1a00d6d2ae7",
   "metadata": {},
   "outputs": [],
   "source": [
    "features = [\"x1\", \"x2\", \"x3\", \"x4\"]\n",
    "target = \"y\""
   ]
  },
  {
   "cell_type": "code",
   "execution_count": 7,
   "id": "a8235148-9f89-4a20-971b-8d004bff0b80",
   "metadata": {},
   "outputs": [],
   "source": [
    "from itertools import combinations\n",
    "from tqdm import tqdm\n",
    "import numpy as np\n",
    "from sklearn.linear_model import LinearRegression"
   ]
  },
  {
   "cell_type": "code",
   "execution_count": 9,
   "id": "6bee9d84-8d47-4e74-9371-d43296df8c5c",
   "metadata": {},
   "outputs": [
    {
     "name": "stdout",
     "output_type": "stream",
     "text": [
      "('x1',) 39.273519074333336\n",
      "('x2',) 81.76001405302839\n",
      "('x3',) 116.50033683806495\n",
      "('x4',) 116.38307781451033\n",
      "('x1', 'x2') 0.12782460063364573\n",
      "('x1', 'x3') 39.93809270322655\n",
      "('x1', 'x4') 40.153698661814666\n",
      "('x2', 'x3') 81.52950229612844\n",
      "('x2', 'x4') 81.91093362181661\n",
      "('x3', 'x4') 116.50840905367276\n",
      "('x1', 'x2', 'x3') 0.08367511986102542\n",
      "('x1', 'x2', 'x4') 0.09686547610918858\n",
      "('x1', 'x3', 'x4') 40.45583103337049\n",
      "('x2', 'x3', 'x4') 81.80187004308706\n",
      "('x1', 'x2', 'x3', 'x4') 0.047065353576703585\n"
     ]
    }
   ],
   "source": [
    "best_subsets = {}\n",
    "\n",
    "for k in range(1, len(features) + 1):\n",
    "    best_rss = np.inf\n",
    "    best_features = None\n",
    "\n",
    "    for combo in combinations(features, k):\n",
    "        X_subset_train = train_df[features][list(combo)]\n",
    "        X_subset_test = test_df[features][list(combo)]\n",
    "        model = LinearRegression().fit(X_subset_train, train_df[target])\n",
    "        y_pred = model.predict(X_subset_test)\n",
    "        rss = np.sum((test_df[target] - y_pred) ** 2)\n",
    "\n",
    "        if rss < best_rss:\n",
    "            best_rss = rss\n",
    "            best_features = combo\n",
    "        print(combo, rss)\n",
    "\n",
    "    best_subsets[k] = {\"features\": best_features, \"RSS\": best_rss}"
   ]
  },
  {
   "cell_type": "code",
   "execution_count": 10,
   "id": "bd131df2-1dff-4ef0-8a6a-723e36664f97",
   "metadata": {},
   "outputs": [
    {
     "data": {
      "text/plain": [
       "{1: {'features': ('x1',), 'RSS': np.float64(39.273519074333336)},\n",
       " 2: {'features': ('x1', 'x2'), 'RSS': np.float64(0.12782460063364573)},\n",
       " 3: {'features': ('x1', 'x2', 'x3'), 'RSS': np.float64(0.08367511986102542)},\n",
       " 4: {'features': ('x1', 'x2', 'x3', 'x4'),\n",
       "  'RSS': np.float64(0.047065353576703585)}}"
      ]
     },
     "execution_count": 10,
     "metadata": {},
     "output_type": "execute_result"
    }
   ],
   "source": [
    "best_subsets"
   ]
  },
  {
   "cell_type": "code",
   "execution_count": 11,
   "id": "b26c6f0d-56e6-4096-8a5b-0c3a0d9d1143",
   "metadata": {},
   "outputs": [],
   "source": [
    "n = len(df[target])\n",
    "aic_values = {}\n",
    "bic_values = {}\n",
    "\n",
    "for k in best_subsets:\n",
    "    rss = best_subsets[k][\"RSS\"]\n",
    "    aic = n * np.log(rss / n) + 2 * (k + 1)\n",
    "    bic = n * np.log(rss / n) + (k + 1) * np.log(n)\n",
    "    aic_values[k] = aic\n",
    "    bic_values[k] = bic"
   ]
  },
  {
   "cell_type": "code",
   "execution_count": 12,
   "id": "734513d9-a0a9-4060-83e7-670e7352f8f3",
   "metadata": {},
   "outputs": [],
   "source": [
    "optimal_k_aic = min(aic_values, key=aic_values.get)\n",
    "optimal_k_bic = min(bic_values, key=bic_values.get)"
   ]
  },
  {
   "cell_type": "code",
   "execution_count": 13,
   "id": "995f94e9-c71a-4db9-9f00-96261b452702",
   "metadata": {},
   "outputs": [
    {
     "data": {
      "text/plain": [
       "(4, 4)"
      ]
     },
     "execution_count": 13,
     "metadata": {},
     "output_type": "execute_result"
    }
   ],
   "source": [
    "optimal_k_aic, optimal_k_bic"
   ]
  },
  {
   "cell_type": "code",
   "execution_count": 14,
   "id": "3a8ae541-e915-4674-9884-3aee0500a45c",
   "metadata": {},
   "outputs": [
    {
     "data": {
      "text/plain": [
       "(('x1', 'x2', 'x3', 'x4'), ('x1', 'x2', 'x3', 'x4'))"
      ]
     },
     "execution_count": 14,
     "metadata": {},
     "output_type": "execute_result"
    }
   ],
   "source": [
    "best_subsets[optimal_k_aic][\"features\"], best_subsets[optimal_k_bic][\"features\"]"
   ]
  },
  {
   "cell_type": "code",
   "execution_count": 15,
   "id": "06598b1e-28ce-48e3-b277-0b1718bdd66c",
   "metadata": {},
   "outputs": [],
   "source": [
    "import matplotlib.pyplot as plt"
   ]
  },
  {
   "cell_type": "code",
   "execution_count": 16,
   "id": "8fe5ed27-d124-45e2-b1a3-fc92b72f57ad",
   "metadata": {},
   "outputs": [
    {
     "data": {
      "image/png": "[encoded data removed]",
      "text/plain": [
       "<Figure size 1200x500 with 3 Axes>"
      ]
     },
     "metadata": {},
     "output_type": "display_data"
    }
   ],
   "source": [
    "plt.figure(figsize=(12, 5))\n",
    "\n",
    "plt.subplot(1, 3, 1)\n",
    "plt.plot(\n",
    "    list(best_subsets.keys()), [v[\"RSS\"] for v in best_subsets.values()], marker=\"o\"\n",
    ")\n",
    "plt.xlabel(\"k\")\n",
    "plt.ylabel(\"RSS\")\n",
    "plt.grid(True)\n",
    "plt.title(\"RSS vs k\")\n",
    "\n",
    "plt.subplot(1, 3, 2)\n",
    "plt.plot(list(aic_values.keys()), list(aic_values.values()), marker=\"o\", color=\"orange\")\n",
    "plt.xlabel(\"k\")\n",
    "plt.ylabel(\"AIC\")\n",
    "plt.grid(True)\n",
    "plt.title(\"AIC vs k\")\n",
    "\n",
    "plt.subplot(1, 3, 3)\n",
    "plt.plot(list(bic_values.keys()), list(bic_values.values()), marker=\"o\", color=\"red\")\n",
    "plt.xlabel(\"k\")\n",
    "plt.ylabel(\"BIC\")\n",
    "plt.grid(True)\n",
    "plt.title(\"BIC vs k\")\n",
    "\n",
    "plt.tight_layout()\n",
    "plt.show()"
   ]
  }
 ],
 "metadata": {
  "kernelspec": {
   "display_name": "Python 3 (ipykernel)",
   "language": "python",
   "name": "python3"
  },
  "language_info": {
   "codemirror_mode": {
    "name": "ipython",
    "version": 3
   },
   "file_extension": ".py",
   "mimetype": "text/x-python",
   "name": "python",
   "nbconvert_exporter": "python",
   "pygments_lexer": "ipython3",
   "version": "3.12.0"
  }
 },
 "nbformat": 4,
 "nbformat_minor": 5
}
