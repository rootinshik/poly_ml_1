{
 "cells": [
  {
   "cell_type": "code",
   "execution_count": 1,
   "id": "a1727d73-a353-4098-88d3-0eb194d569b3",
   "metadata": {},
   "outputs": [],
   "source": [
    "import pandas as pd"
   ]
  },
  {
   "cell_type": "code",
   "execution_count": 2,
   "id": "e363a6f8-d240-4653-ac82-0bf1d79d3329",
   "metadata": {},
   "outputs": [
    {
     "data": {
      "text/html": [
       "<div>\n",
       "<style scoped>\n",
       "    .dataframe tbody tr th:only-of-type {\n",
       "        vertical-align: middle;\n",
       "    }\n",
       "\n",
       "    .dataframe tbody tr th {\n",
       "        vertical-align: top;\n",
       "    }\n",
       "\n",
       "    .dataframe thead th {\n",
       "        text-align: right;\n",
       "    }\n",
       "</style>\n",
       "<table border=\"1\" class=\"dataframe\">\n",
       "  <thead>\n",
       "    <tr style=\"text-align: right;\">\n",
       "      <th></th>\n",
       "      <th>z</th>\n",
       "      <th>x</th>\n",
       "      <th>y</th>\n",
       "    </tr>\n",
       "  </thead>\n",
       "  <tbody>\n",
       "    <tr>\n",
       "      <th>0</th>\n",
       "      <td>2.836772</td>\n",
       "      <td>0.271010</td>\n",
       "      <td>0.308331</td>\n",
       "    </tr>\n",
       "    <tr>\n",
       "      <th>1</th>\n",
       "      <td>4.987167</td>\n",
       "      <td>0.589598</td>\n",
       "      <td>0.514913</td>\n",
       "    </tr>\n",
       "    <tr>\n",
       "      <th>2</th>\n",
       "      <td>6.412325</td>\n",
       "      <td>0.651744</td>\n",
       "      <td>0.730453</td>\n",
       "    </tr>\n",
       "    <tr>\n",
       "      <th>3</th>\n",
       "      <td>4.641998</td>\n",
       "      <td>0.581983</td>\n",
       "      <td>0.461400</td>\n",
       "    </tr>\n",
       "    <tr>\n",
       "      <th>4</th>\n",
       "      <td>2.793941</td>\n",
       "      <td>0.463688</td>\n",
       "      <td>0.191102</td>\n",
       "    </tr>\n",
       "    <tr>\n",
       "      <th>...</th>\n",
       "      <td>...</td>\n",
       "      <td>...</td>\n",
       "      <td>...</td>\n",
       "    </tr>\n",
       "    <tr>\n",
       "      <th>195</th>\n",
       "      <td>2.917468</td>\n",
       "      <td>0.745790</td>\n",
       "      <td>0.073874</td>\n",
       "    </tr>\n",
       "    <tr>\n",
       "      <th>196</th>\n",
       "      <td>4.813905</td>\n",
       "      <td>0.474947</td>\n",
       "      <td>0.582424</td>\n",
       "    </tr>\n",
       "    <tr>\n",
       "      <th>197</th>\n",
       "      <td>6.419296</td>\n",
       "      <td>0.773870</td>\n",
       "      <td>0.636785</td>\n",
       "    </tr>\n",
       "    <tr>\n",
       "      <th>198</th>\n",
       "      <td>4.231917</td>\n",
       "      <td>0.049090</td>\n",
       "      <td>0.994537</td>\n",
       "    </tr>\n",
       "    <tr>\n",
       "      <th>199</th>\n",
       "      <td>3.928354</td>\n",
       "      <td>0.180229</td>\n",
       "      <td>0.664546</td>\n",
       "    </tr>\n",
       "  </tbody>\n",
       "</table>\n",
       "<p>200 rows × 3 columns</p>\n",
       "</div>"
      ],
      "text/plain": [
       "            z         x         y\n",
       "0    2.836772  0.271010  0.308331\n",
       "1    4.987167  0.589598  0.514913\n",
       "2    6.412325  0.651744  0.730453\n",
       "3    4.641998  0.581983  0.461400\n",
       "4    2.793941  0.463688  0.191102\n",
       "..        ...       ...       ...\n",
       "195  2.917468  0.745790  0.073874\n",
       "196  4.813905  0.474947  0.582424\n",
       "197  6.419296  0.773870  0.636785\n",
       "198  4.231917  0.049090  0.994537\n",
       "199  3.928354  0.180229  0.664546\n",
       "\n",
       "[200 rows x 3 columns]"
      ]
     },
     "execution_count": 2,
     "metadata": {},
     "output_type": "execute_result"
    }
   ],
   "source": [
    "df = pd.read_csv(\"../data/reglab1.txt\", sep=\"\\t\")\n",
    "df"
   ]
  },
  {
   "cell_type": "code",
   "execution_count": 3,
   "id": "87c38480-a5a1-473d-b4d4-e64678d68808",
   "metadata": {},
   "outputs": [],
   "source": [
    "feaures = [\"x\", \"y\"]\n",
    "target = \"z\""
   ]
  },
  {
   "cell_type": "code",
   "execution_count": 4,
   "id": "c481c9c7-a10f-41a7-ac14-1bace2289fa4",
   "metadata": {},
   "outputs": [],
   "source": [
    "from sklearn.model_selection import train_test_split"
   ]
  },
  {
   "cell_type": "code",
   "execution_count": 5,
   "id": "e69f7818-981a-451d-aa78-c7f508c5b5f0",
   "metadata": {},
   "outputs": [],
   "source": [
    "train_df, test_df = train_test_split(\n",
    "    df,\n",
    "    test_size=0.3,\n",
    "    random_state=42,\n",
    ")"
   ]
  },
  {
   "cell_type": "code",
   "execution_count": 6,
   "id": "6fbff7f0-45dd-48f7-a483-2dc6911bfdcb",
   "metadata": {},
   "outputs": [
    {
     "data": {
      "text/html": [
       "<div>\n",
       "<style scoped>\n",
       "    .dataframe tbody tr th:only-of-type {\n",
       "        vertical-align: middle;\n",
       "    }\n",
       "\n",
       "    .dataframe tbody tr th {\n",
       "        vertical-align: top;\n",
       "    }\n",
       "\n",
       "    .dataframe thead th {\n",
       "        text-align: right;\n",
       "    }\n",
       "</style>\n",
       "<table border=\"1\" class=\"dataframe\">\n",
       "  <thead>\n",
       "    <tr style=\"text-align: right;\">\n",
       "      <th></th>\n",
       "      <th>z</th>\n",
       "      <th>x</th>\n",
       "      <th>y</th>\n",
       "    </tr>\n",
       "  </thead>\n",
       "  <tbody>\n",
       "    <tr>\n",
       "      <th>count</th>\n",
       "      <td>200.000000</td>\n",
       "      <td>200.000000</td>\n",
       "      <td>200.000000</td>\n",
       "    </tr>\n",
       "    <tr>\n",
       "      <th>mean</th>\n",
       "      <td>4.526593</td>\n",
       "      <td>0.505099</td>\n",
       "      <td>0.500915</td>\n",
       "    </tr>\n",
       "    <tr>\n",
       "      <th>std</th>\n",
       "      <td>1.896627</td>\n",
       "      <td>0.275199</td>\n",
       "      <td>0.297885</td>\n",
       "    </tr>\n",
       "    <tr>\n",
       "      <th>min</th>\n",
       "      <td>1.279172</td>\n",
       "      <td>0.012889</td>\n",
       "      <td>0.007156</td>\n",
       "    </tr>\n",
       "    <tr>\n",
       "      <th>25%</th>\n",
       "      <td>2.952748</td>\n",
       "      <td>0.267437</td>\n",
       "      <td>0.212382</td>\n",
       "    </tr>\n",
       "    <tr>\n",
       "      <th>50%</th>\n",
       "      <td>4.309908</td>\n",
       "      <td>0.509381</td>\n",
       "      <td>0.505285</td>\n",
       "    </tr>\n",
       "    <tr>\n",
       "      <th>75%</th>\n",
       "      <td>5.777935</td>\n",
       "      <td>0.732546</td>\n",
       "      <td>0.763352</td>\n",
       "    </tr>\n",
       "    <tr>\n",
       "      <th>max</th>\n",
       "      <td>9.569435</td>\n",
       "      <td>0.995119</td>\n",
       "      <td>0.994609</td>\n",
       "    </tr>\n",
       "  </tbody>\n",
       "</table>\n",
       "</div>"
      ],
      "text/plain": [
       "                z           x           y\n",
       "count  200.000000  200.000000  200.000000\n",
       "mean     4.526593    0.505099    0.500915\n",
       "std      1.896627    0.275199    0.297885\n",
       "min      1.279172    0.012889    0.007156\n",
       "25%      2.952748    0.267437    0.212382\n",
       "50%      4.309908    0.509381    0.505285\n",
       "75%      5.777935    0.732546    0.763352\n",
       "max      9.569435    0.995119    0.994609"
      ]
     },
     "execution_count": 6,
     "metadata": {},
     "output_type": "execute_result"
    }
   ],
   "source": [
    "df.describe()"
   ]
  },
  {
   "cell_type": "code",
   "execution_count": 7,
   "id": "db0da578-dedc-4895-a5ab-b4302cfbf9f3",
   "metadata": {},
   "outputs": [],
   "source": [
    "import itertools"
   ]
  },
  {
   "cell_type": "code",
   "execution_count": 8,
   "id": "17799f09-66f9-4669-aabf-57046a2a1ef2",
   "metadata": {},
   "outputs": [],
   "source": [
    "all_combinations = [[\"x\"], [\"y\"], [\"x\", \"y\"]]"
   ]
  },
  {
   "cell_type": "code",
   "execution_count": 9,
   "id": "70e4054e-e3fc-4d39-abe8-720643de4615",
   "metadata": {},
   "outputs": [],
   "source": [
    "from sklearn.linear_model import LinearRegression\n",
    "from sklearn.metrics import r2_score, mean_squared_error"
   ]
  },
  {
   "cell_type": "code",
   "execution_count": 10,
   "id": "a6b5c42c-b00a-4b73-8774-135738e6c383",
   "metadata": {},
   "outputs": [],
   "source": [
    "results = []\n",
    "for features in all_combinations:\n",
    "    X = train_df[features]\n",
    "    y = train_df[target]\n",
    "\n",
    "    model = LinearRegression()\n",
    "    model.fit(X, y)\n",
    "\n",
    "    y_pred = model.predict(test_df[features])\n",
    "\n",
    "    r2 = r2_score(test_df[target], y_pred)\n",
    "    mse = mean_squared_error(test_df[target], y_pred)\n",
    "    n_features = len(features)\n",
    "\n",
    "    results.append(\n",
    "        {\n",
    "            \"Features\": \", \".join(features),\n",
    "            \"R^2\": r2,\n",
    "            \"MSE\": mse,\n",
    "            \"Adjusted R^2\": 1\n",
    "            - (1 - r2)\n",
    "            * (len(test_df[target]) - 1)\n",
    "            / (len(test_df[target]) - n_features - 1),\n",
    "        }\n",
    "    )"
   ]
  },
  {
   "cell_type": "code",
   "execution_count": 11,
   "id": "bcc9cc88-8ad8-45f2-8c79-55675844c144",
   "metadata": {},
   "outputs": [
    {
     "data": {
      "text/plain": [
       "(array([4.13129522, 4.92074657]), np.float64(-0.018397884222508765))"
      ]
     },
     "execution_count": 11,
     "metadata": {},
     "output_type": "execute_result"
    }
   ],
   "source": [
    "model.coef_, model.intercept_"
   ]
  },
  {
   "cell_type": "code",
   "execution_count": 12,
   "id": "fa384ee3-86b8-4d24-ad55-025e5357b1a2",
   "metadata": {},
   "outputs": [
    {
     "data": {
      "text/plain": [
       "[{'Features': 'x',\n",
       "  'R^2': 0.3679912556826054,\n",
       "  'MSE': 2.334674910895492,\n",
       "  'Adjusted R^2': 0.35709455319437444},\n",
       " {'Features': 'y',\n",
       "  'R^2': 0.5731020567661267,\n",
       "  'MSE': 1.5769843796346048,\n",
       "  'Adjusted R^2': 0.5657417474000255},\n",
       " {'Features': 'x, y',\n",
       "  'R^2': 0.966750533806433,\n",
       "  'MSE': 0.12282534889074943,\n",
       "  'Adjusted R^2': 0.9655838858698167}]"
      ]
     },
     "execution_count": 12,
     "metadata": {},
     "output_type": "execute_result"
    }
   ],
   "source": [
    "results"
   ]
  },
  {
   "cell_type": "code",
   "execution_count": 13,
   "id": "2d18425f-e38b-4f41-b017-67c3118e4346",
   "metadata": {},
   "outputs": [
    {
     "data": {
      "text/html": [
       "<div>\n",
       "<style scoped>\n",
       "    .dataframe tbody tr th:only-of-type {\n",
       "        vertical-align: middle;\n",
       "    }\n",
       "\n",
       "    .dataframe tbody tr th {\n",
       "        vertical-align: top;\n",
       "    }\n",
       "\n",
       "    .dataframe thead th {\n",
       "        text-align: right;\n",
       "    }\n",
       "</style>\n",
       "<table border=\"1\" class=\"dataframe\">\n",
       "  <thead>\n",
       "    <tr style=\"text-align: right;\">\n",
       "      <th></th>\n",
       "      <th>Features</th>\n",
       "      <th>R^2</th>\n",
       "      <th>MSE</th>\n",
       "      <th>Adjusted R^2</th>\n",
       "    </tr>\n",
       "  </thead>\n",
       "  <tbody>\n",
       "    <tr>\n",
       "      <th>2</th>\n",
       "      <td>x, y</td>\n",
       "      <td>0.966751</td>\n",
       "      <td>0.122825</td>\n",
       "      <td>0.965584</td>\n",
       "    </tr>\n",
       "    <tr>\n",
       "      <th>1</th>\n",
       "      <td>y</td>\n",
       "      <td>0.573102</td>\n",
       "      <td>1.576984</td>\n",
       "      <td>0.565742</td>\n",
       "    </tr>\n",
       "    <tr>\n",
       "      <th>0</th>\n",
       "      <td>x</td>\n",
       "      <td>0.367991</td>\n",
       "      <td>2.334675</td>\n",
       "      <td>0.357095</td>\n",
       "    </tr>\n",
       "  </tbody>\n",
       "</table>\n",
       "</div>"
      ],
      "text/plain": [
       "  Features       R^2       MSE  Adjusted R^2\n",
       "2     x, y  0.966751  0.122825      0.965584\n",
       "1        y  0.573102  1.576984      0.565742\n",
       "0        x  0.367991  2.334675      0.357095"
      ]
     },
     "execution_count": 13,
     "metadata": {},
     "output_type": "execute_result"
    }
   ],
   "source": [
    "results_df = pd.DataFrame(results)\n",
    "results_df.sort_values(by=\"Adjusted R^2\", ascending=False)"
   ]
  },
  {
   "cell_type": "code",
   "execution_count": 14,
   "id": "905f3b83-fccd-41a6-9a8a-b8ffde894e07",
   "metadata": {},
   "outputs": [],
   "source": [
    "import matplotlib.pyplot as plt"
   ]
  },
  {
   "cell_type": "code",
   "execution_count": 16,
   "id": "4189a07c-78ca-4cda-ad45-37cce53c5790",
   "metadata": {},
   "outputs": [
    {
     "data": {
      "image/png": "[encoded data removed]",
      "text/plain": [
       "<Figure size 1000x600 with 1 Axes>"
      ]
     },
     "metadata": {},
     "output_type": "display_data"
    }
   ],
   "source": [
    "plt.figure(figsize=(10, 6))\n",
    "plt.barh(results_df[\"Features\"], results_df[\"MSE\"])\n",
    "plt.xlabel(\"MSE\")\n",
    "plt.title(\"Сравнение качества моделей\")\n",
    "plt.gca().invert_yaxis()\n",
    "plt.grid(True)\n",
    "plt.show()"
   ]
  }
 ],
 "metadata": {
  "kernelspec": {
   "display_name": "Python 3 (ipykernel)",
   "language": "python",
   "name": "python3"
  },
  "language_info": {
   "codemirror_mode": {
    "name": "ipython",
    "version": 3
   },
   "file_extension": ".py",
   "mimetype": "text/x-python",
   "name": "python",
   "nbconvert_exporter": "python",
   "pygments_lexer": "ipython3",
   "version": "3.12.0"
  }
 },
 "nbformat": 4,
 "nbformat_minor": 5
}
